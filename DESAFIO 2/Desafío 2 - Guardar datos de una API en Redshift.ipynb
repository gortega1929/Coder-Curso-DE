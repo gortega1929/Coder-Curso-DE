{
 "cells": [
  {
   "cell_type": "markdown",
   "id": "5485d911",
   "metadata": {},
   "source": [
    "### 1. Importar data desde API"
   ]
  },
  {
   "cell_type": "code",
   "execution_count": 1,
   "id": "ab8155b3",
   "metadata": {},
   "outputs": [],
   "source": [
    "# Importar CREDENCIALES desed un archivo local\n",
    "import sys\n",
    "sys.path.append('../../../')\n",
    "from OTROS.credentials import api_key, ddbb_user, ddbb_password"
   ]
  },
  {
   "cell_type": "code",
   "execution_count": 22,
   "id": "4071c135",
   "metadata": {},
   "outputs": [],
   "source": [
    "# Instalar libreria, solo si no se ha instalado previamente\n",
    "# pip install alpha_vantage"
   ]
  },
  {
   "cell_type": "code",
   "execution_count": 2,
   "id": "85dad428",
   "metadata": {},
   "outputs": [],
   "source": [
    "from alpha_vantage.timeseries import TimeSeries\n",
    "import pandas as pd\n",
    "import numpy as np"
   ]
  },
  {
   "cell_type": "code",
   "execution_count": 31,
   "id": "8a43cce1",
   "metadata": {},
   "outputs": [],
   "source": [
    "# Configura el objeto TimeSeries con tu clave de API\n",
    "ts = TimeSeries(key = api_key)\n",
    "\n",
    "# Lista de 10 tickers de ejemplo\n",
    "#tickers = ['AAPL', 'MSFT', 'GOOGL', 'AMZN', 'FB', 'TSLA', 'NFLX', 'NVDA', 'V', 'PYPL']\n",
    "tickers = ['AAPL', 'MSFT']\n",
    "\n",
    "# Crear un DataFrame vacío con las columnas deseadas\n",
    "df_raw = pd.DataFrame(columns=['ticker', 'date', 'open', 'high', 'low', 'close', 'volume'])"
   ]
  },
  {
   "cell_type": "code",
   "execution_count": 32,
   "id": "e6d7707a",
   "metadata": {},
   "outputs": [],
   "source": [
    "for ticker in tickers:\n",
    "    data, meta_data = ts.get_daily(symbol=ticker, outputsize='full')\n",
    "    \n",
    "    # Guardar los datos en un DataFrame temporal\n",
    "    df_temp = pd.DataFrame.from_dict(data, orient='index')\n",
    "    df_temp = df_temp.reset_index()\n",
    "    df_temp.columns = ['date','open', 'high', 'low', 'close', 'volume']\n",
    "    df_temp[['open', 'high', 'low', 'close', 'volume']] = df_temp[['open', 'high', 'low', 'close', 'volume']].astype(float)\n",
    "    \n",
    "    # Agregar la columna 'Ticker' al DataFrame temporal\n",
    "    df_temp['ticker'] = ticker\n",
    "    \n",
    "    # Concatenar el DataFrame temporal al DataFrame principal\n",
    "    df_raw = pd.concat([df_raw, df_temp], ignore_index=True)"
   ]
  },
  {
   "cell_type": "code",
   "execution_count": 51,
   "id": "10ed3db5",
   "metadata": {},
   "outputs": [
    {
     "data": {
      "text/html": [
       "<div>\n",
       "<style scoped>\n",
       "    .dataframe tbody tr th:only-of-type {\n",
       "        vertical-align: middle;\n",
       "    }\n",
       "\n",
       "    .dataframe tbody tr th {\n",
       "        vertical-align: top;\n",
       "    }\n",
       "\n",
       "    .dataframe thead th {\n",
       "        text-align: right;\n",
       "    }\n",
       "</style>\n",
       "<table border=\"1\" class=\"dataframe\">\n",
       "  <thead>\n",
       "    <tr style=\"text-align: right;\">\n",
       "      <th></th>\n",
       "      <th>ticker</th>\n",
       "      <th>date</th>\n",
       "      <th>open</th>\n",
       "      <th>high</th>\n",
       "      <th>low</th>\n",
       "      <th>close</th>\n",
       "      <th>volume</th>\n",
       "    </tr>\n",
       "  </thead>\n",
       "  <tbody>\n",
       "    <tr>\n",
       "      <th>0</th>\n",
       "      <td>AAPL</td>\n",
       "      <td>2023-12-22</td>\n",
       "      <td>195.18</td>\n",
       "      <td>195.41</td>\n",
       "      <td>192.97</td>\n",
       "      <td>193.60</td>\n",
       "      <td>37149570.0</td>\n",
       "    </tr>\n",
       "    <tr>\n",
       "      <th>1</th>\n",
       "      <td>AAPL</td>\n",
       "      <td>2023-12-21</td>\n",
       "      <td>196.10</td>\n",
       "      <td>197.08</td>\n",
       "      <td>193.50</td>\n",
       "      <td>194.68</td>\n",
       "      <td>46482549.0</td>\n",
       "    </tr>\n",
       "    <tr>\n",
       "      <th>2</th>\n",
       "      <td>AAPL</td>\n",
       "      <td>2023-12-20</td>\n",
       "      <td>196.90</td>\n",
       "      <td>197.68</td>\n",
       "      <td>194.83</td>\n",
       "      <td>194.83</td>\n",
       "      <td>52242815.0</td>\n",
       "    </tr>\n",
       "    <tr>\n",
       "      <th>3</th>\n",
       "      <td>AAPL</td>\n",
       "      <td>2023-12-19</td>\n",
       "      <td>196.16</td>\n",
       "      <td>196.95</td>\n",
       "      <td>195.89</td>\n",
       "      <td>196.94</td>\n",
       "      <td>40233138.0</td>\n",
       "    </tr>\n",
       "    <tr>\n",
       "      <th>4</th>\n",
       "      <td>AAPL</td>\n",
       "      <td>2023-12-18</td>\n",
       "      <td>196.09</td>\n",
       "      <td>196.63</td>\n",
       "      <td>194.39</td>\n",
       "      <td>195.89</td>\n",
       "      <td>55751861.0</td>\n",
       "    </tr>\n",
       "  </tbody>\n",
       "</table>\n",
       "</div>"
      ],
      "text/plain": [
       "  ticker        date    open    high     low   close      volume\n",
       "0   AAPL  2023-12-22  195.18  195.41  192.97  193.60  37149570.0\n",
       "1   AAPL  2023-12-21  196.10  197.08  193.50  194.68  46482549.0\n",
       "2   AAPL  2023-12-20  196.90  197.68  194.83  194.83  52242815.0\n",
       "3   AAPL  2023-12-19  196.16  196.95  195.89  196.94  40233138.0\n",
       "4   AAPL  2023-12-18  196.09  196.63  194.39  195.89  55751861.0"
      ]
     },
     "execution_count": 51,
     "metadata": {},
     "output_type": "execute_result"
    }
   ],
   "source": [
    "df_raw.head()"
   ]
  },
  {
   "cell_type": "code",
   "execution_count": 53,
   "id": "97edeb33",
   "metadata": {},
   "outputs": [
    {
     "data": {
      "text/html": [
       "<div>\n",
       "<style scoped>\n",
       "    .dataframe tbody tr th:only-of-type {\n",
       "        vertical-align: middle;\n",
       "    }\n",
       "\n",
       "    .dataframe tbody tr th {\n",
       "        vertical-align: top;\n",
       "    }\n",
       "\n",
       "    .dataframe thead th {\n",
       "        text-align: right;\n",
       "    }\n",
       "</style>\n",
       "<table border=\"1\" class=\"dataframe\">\n",
       "  <thead>\n",
       "    <tr style=\"text-align: right;\">\n",
       "      <th></th>\n",
       "      <th>ticker</th>\n",
       "      <th>date</th>\n",
       "      <th>open_price</th>\n",
       "      <th>high_price</th>\n",
       "      <th>low_price</th>\n",
       "      <th>close_price</th>\n",
       "      <th>volume</th>\n",
       "    </tr>\n",
       "  </thead>\n",
       "  <tbody>\n",
       "    <tr>\n",
       "      <th>0</th>\n",
       "      <td>AAPL</td>\n",
       "      <td>2023-12-22</td>\n",
       "      <td>195.18</td>\n",
       "      <td>195.41</td>\n",
       "      <td>192.97</td>\n",
       "      <td>193.60</td>\n",
       "      <td>37149570.0</td>\n",
       "    </tr>\n",
       "    <tr>\n",
       "      <th>1</th>\n",
       "      <td>AAPL</td>\n",
       "      <td>2023-12-21</td>\n",
       "      <td>196.10</td>\n",
       "      <td>197.08</td>\n",
       "      <td>193.50</td>\n",
       "      <td>194.68</td>\n",
       "      <td>46482549.0</td>\n",
       "    </tr>\n",
       "    <tr>\n",
       "      <th>2</th>\n",
       "      <td>AAPL</td>\n",
       "      <td>2023-12-20</td>\n",
       "      <td>196.90</td>\n",
       "      <td>197.68</td>\n",
       "      <td>194.83</td>\n",
       "      <td>194.83</td>\n",
       "      <td>52242815.0</td>\n",
       "    </tr>\n",
       "    <tr>\n",
       "      <th>3</th>\n",
       "      <td>AAPL</td>\n",
       "      <td>2023-12-19</td>\n",
       "      <td>196.16</td>\n",
       "      <td>196.95</td>\n",
       "      <td>195.89</td>\n",
       "      <td>196.94</td>\n",
       "      <td>40233138.0</td>\n",
       "    </tr>\n",
       "    <tr>\n",
       "      <th>4</th>\n",
       "      <td>AAPL</td>\n",
       "      <td>2023-12-18</td>\n",
       "      <td>196.09</td>\n",
       "      <td>196.63</td>\n",
       "      <td>194.39</td>\n",
       "      <td>195.89</td>\n",
       "      <td>55751861.0</td>\n",
       "    </tr>\n",
       "  </tbody>\n",
       "</table>\n",
       "</div>"
      ],
      "text/plain": [
       "  ticker        date  open_price  high_price  low_price  close_price  \\\n",
       "0   AAPL  2023-12-22      195.18      195.41     192.97       193.60   \n",
       "1   AAPL  2023-12-21      196.10      197.08     193.50       194.68   \n",
       "2   AAPL  2023-12-20      196.90      197.68     194.83       194.83   \n",
       "3   AAPL  2023-12-19      196.16      196.95     195.89       196.94   \n",
       "4   AAPL  2023-12-18      196.09      196.63     194.39       195.89   \n",
       "\n",
       "       volume  \n",
       "0  37149570.0  \n",
       "1  46482549.0  \n",
       "2  52242815.0  \n",
       "3  40233138.0  \n",
       "4  55751861.0  "
      ]
     },
     "execution_count": 53,
     "metadata": {},
     "output_type": "execute_result"
    }
   ],
   "source": [
    "# Dar el formato deseado al dataframe\n",
    "df = df_raw\n",
    "df = df.rename(columns={'open':'open_price','high':'high_price','low':'low_price','close':'close_price'})\n",
    "df['date'] = df['date'].astype(str)\n",
    "df['ticker'] = df['ticker'].astype(str)\n",
    "\n",
    "df.head()"
   ]
  },
  {
   "cell_type": "markdown",
   "id": "d3cc8549",
   "metadata": {},
   "source": [
    "### 2. Guardar DATAFRAME en una tabla temporal REDSHIFT"
   ]
  },
  {
   "cell_type": "code",
   "execution_count": 67,
   "id": "eaf8f542",
   "metadata": {},
   "outputs": [],
   "source": [
    "# Definir fecha de inicio y fin de exportacion a Redshift\n",
    "start_date_export = '2023-12-01'\n",
    "end_date_export = '2023-12-31'"
   ]
  },
  {
   "cell_type": "code",
   "execution_count": 68,
   "id": "35de89f0",
   "metadata": {},
   "outputs": [],
   "source": [
    "# Filtrar solo la data que se va a actualizar\n",
    "df_load = df[(df['date']>= start_date_export) \n",
    "             & (df['date']<= end_date_export)]"
   ]
  },
  {
   "cell_type": "code",
   "execution_count": 69,
   "id": "5d5e5083",
   "metadata": {},
   "outputs": [
    {
     "data": {
      "text/html": [
       "<div>\n",
       "<style scoped>\n",
       "    .dataframe tbody tr th:only-of-type {\n",
       "        vertical-align: middle;\n",
       "    }\n",
       "\n",
       "    .dataframe tbody tr th {\n",
       "        vertical-align: top;\n",
       "    }\n",
       "\n",
       "    .dataframe thead th {\n",
       "        text-align: right;\n",
       "    }\n",
       "</style>\n",
       "<table border=\"1\" class=\"dataframe\">\n",
       "  <thead>\n",
       "    <tr style=\"text-align: right;\">\n",
       "      <th></th>\n",
       "      <th>ticker</th>\n",
       "      <th>fecha_min</th>\n",
       "      <th>fecha_max</th>\n",
       "      <th>cant_filas</th>\n",
       "      <th>cant_dias</th>\n",
       "    </tr>\n",
       "  </thead>\n",
       "  <tbody>\n",
       "    <tr>\n",
       "      <th>0</th>\n",
       "      <td>AAPL</td>\n",
       "      <td>2023-12-01</td>\n",
       "      <td>2023-12-22</td>\n",
       "      <td>16</td>\n",
       "      <td>16</td>\n",
       "    </tr>\n",
       "    <tr>\n",
       "      <th>1</th>\n",
       "      <td>MSFT</td>\n",
       "      <td>2023-12-01</td>\n",
       "      <td>2023-12-22</td>\n",
       "      <td>16</td>\n",
       "      <td>16</td>\n",
       "    </tr>\n",
       "  </tbody>\n",
       "</table>\n",
       "</div>"
      ],
      "text/plain": [
       "  ticker   fecha_min   fecha_max  cant_filas  cant_dias\n",
       "0   AAPL  2023-12-01  2023-12-22          16         16\n",
       "1   MSFT  2023-12-01  2023-12-22          16         16"
      ]
     },
     "execution_count": 69,
     "metadata": {},
     "output_type": "execute_result"
    }
   ],
   "source": [
    "# Validar la data que se enviará hacia REDSHIFT\n",
    "result = df_load.groupby('ticker').agg(\n",
    "    fecha_min=('date', 'min'),\n",
    "    fecha_max=('date', 'max'),\n",
    "    cant_filas=('date', 'count'),\n",
    "    cant_dias=('date', 'nunique')\n",
    ").reset_index()\n",
    "result"
   ]
  },
  {
   "cell_type": "code",
   "execution_count": 9,
   "id": "46c6395e",
   "metadata": {},
   "outputs": [],
   "source": [
    "# Instalar librerias (opcional)\n",
    "#! pip install psycopg2-binary"
   ]
  },
  {
   "cell_type": "code",
   "execution_count": 56,
   "id": "39ed92f9",
   "metadata": {},
   "outputs": [],
   "source": [
    "# Importar librerias\n",
    "import pandas as pd\n",
    "import psycopg2\n",
    "from sqlalchemy import create_engine"
   ]
  },
  {
   "cell_type": "code",
   "execution_count": 57,
   "id": "b7a1c954",
   "metadata": {},
   "outputs": [],
   "source": [
    "# Configuración de la conexión a Redshift\n",
    "redshift_user = ddbb_user\n",
    "redshift_password = ddbb_password\n",
    "redshift_host = 'data-engineer-cluster.cyhh5bfevlmn.us-east-1.redshift.amazonaws.com'\n",
    "redshift_port = '5439'\n",
    "redshift_database = 'data-engineer-database'\n",
    "redshift_schema = 'gustavo_ortega1929_coderhouse'\n",
    "redshift_table = 'tabla_temporal'\n",
    "\n",
    "# Crea el motor de la base de datos para Redshift\n",
    "engine = create_engine(\n",
    "    f'postgresql+psycopg2://{redshift_user}:{redshift_password}@{redshift_host}:{redshift_port}/{redshift_database}'\n",
    ")\n",
    "\n",
    "# Inserta los datos en la tabla de Redshift\n",
    "df_load.to_sql(name=redshift_table, con=engine, schema=redshift_schema, if_exists='replace', index=False)\n",
    "\n",
    "# Cierra la conexión\n",
    "engine.dispose()"
   ]
  },
  {
   "cell_type": "markdown",
   "id": "3415a78f",
   "metadata": {},
   "source": [
    "### 3. Cargar la data (UPSERT) desde la tabla temporal hacia tabla productiva"
   ]
  },
  {
   "cell_type": "code",
   "execution_count": 58,
   "id": "c63000cf",
   "metadata": {},
   "outputs": [],
   "source": [
    "# Importar librerias\n",
    "from sqlalchemy import text"
   ]
  },
  {
   "cell_type": "code",
   "execution_count": 60,
   "id": "7498ba23",
   "metadata": {},
   "outputs": [],
   "source": [
    "# Configuración de la conexión a Redshift\n",
    "redshift_schema_productiva = 'gustavo_ortega1929_coderhouse'\n",
    "redshift_table_productiva = 'stock_price_data'\n",
    "redshift_schema_temporal = 'gustavo_ortega1929_coderhouse'\n",
    "redshift_table_temporal = 'tabla_temporal'\n",
    "\n",
    "# Define la consulta de upsert\n",
    "query = text(f\"\"\"\n",
    "    BEGIN;\n",
    "\n",
    "    -- DELETE de las filas que se van a ACTUALIZAR\n",
    "    delete from {redshift_schema_productiva}.{redshift_table_productiva}\n",
    "    where 1=1\n",
    "        and ticker || date in \n",
    "            (select distinct ticker || date \n",
    "            from {redshift_schema_temporal}.{redshift_table_temporal}\n",
    "            )\n",
    "    ;\n",
    "\n",
    "    -- INSERT de filas nuevas\n",
    "    insert into {redshift_schema_productiva}.{redshift_table_productiva}\n",
    "    select \n",
    "        ticker, date, open_price, high_price, low_price, close_price, volume\n",
    "        , TO_CHAR(CURRENT_TIMESTAMP AT TIME ZONE 'America/Lima', 'YYYY-MM-DD HH24:MI')\n",
    "    from {redshift_schema_temporal}.{redshift_table_temporal}\n",
    "    ;\n",
    "\n",
    "    COMMIT;\n",
    "\"\"\")\n",
    "\n",
    "# Ejecuta la consulta de upsert\n",
    "with engine.connect() as connection:\n",
    "    connection.execute(query)"
   ]
  },
  {
   "cell_type": "code",
   "execution_count": null,
   "id": "0c568f41",
   "metadata": {},
   "outputs": [],
   "source": []
  }
 ],
 "metadata": {
  "kernelspec": {
   "display_name": "Python 3 (ipykernel)",
   "language": "python",
   "name": "python3"
  },
  "language_info": {
   "codemirror_mode": {
    "name": "ipython",
    "version": 3
   },
   "file_extension": ".py",
   "mimetype": "text/x-python",
   "name": "python",
   "nbconvert_exporter": "python",
   "pygments_lexer": "ipython3",
   "version": "3.9.13"
  }
 },
 "nbformat": 4,
 "nbformat_minor": 5
}
