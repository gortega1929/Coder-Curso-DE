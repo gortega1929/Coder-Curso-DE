{
 "cells": [
  {
   "cell_type": "code",
   "execution_count": 5,
   "id": "4071c135",
   "metadata": {},
   "outputs": [],
   "source": [
    "# Instalar libreria, solo si no se ha instalado previamente\n",
    "# pip install alpha_vantage"
   ]
  },
  {
   "cell_type": "code",
   "execution_count": 6,
   "id": "f716eb60",
   "metadata": {},
   "outputs": [],
   "source": [
    "from alpha_vantage.timeseries import TimeSeries\n",
    "import pandas as pd"
   ]
  },
  {
   "cell_type": "code",
   "execution_count": 12,
   "id": "27d2ad9d",
   "metadata": {},
   "outputs": [],
   "source": [
    "# Importar API key guardada en un archivo separado\n",
    "from credentials import api_key"
   ]
  },
  {
   "cell_type": "code",
   "execution_count": null,
   "id": "ad6cd7b6",
   "metadata": {},
   "outputs": [],
   "source": [
    "# Símbolo de la acción que deseas obtener\n",
    "ticker = \"VOO\""
   ]
  },
  {
   "cell_type": "code",
   "execution_count": 26,
   "id": "bf1b2179",
   "metadata": {},
   "outputs": [],
   "source": [
    "# Crea una instancia de la clase TimeSeries con tu clave de API\n",
    "ts = TimeSeries(key=api_key)\n",
    "\n",
    "# Obtiene datos históricos de precios de acciones\n",
    "datos, meta_datos = ts.get_daily(symbol=ticker, outputsize='full')"
   ]
  },
  {
   "cell_type": "code",
   "execution_count": 48,
   "id": "04b2de94",
   "metadata": {},
   "outputs": [],
   "source": [
    "df = pd.DataFrame.from_dict(datos, orient='index')\n",
    "df.columns = ['open', 'high', 'low', 'close', 'volume']\n",
    "df[['open', 'high', 'low', 'close', 'volume']] = df[['open', 'high', 'low', 'close', 'volume']].astype(float)"
   ]
  },
  {
   "cell_type": "code",
   "execution_count": 49,
   "id": "1d47830c",
   "metadata": {},
   "outputs": [
    {
     "data": {
      "text/html": [
       "<div>\n",
       "<style scoped>\n",
       "    .dataframe tbody tr th:only-of-type {\n",
       "        vertical-align: middle;\n",
       "    }\n",
       "\n",
       "    .dataframe tbody tr th {\n",
       "        vertical-align: top;\n",
       "    }\n",
       "\n",
       "    .dataframe thead th {\n",
       "        text-align: right;\n",
       "    }\n",
       "</style>\n",
       "<table border=\"1\" class=\"dataframe\">\n",
       "  <thead>\n",
       "    <tr style=\"text-align: right;\">\n",
       "      <th></th>\n",
       "      <th>open</th>\n",
       "      <th>high</th>\n",
       "      <th>low</th>\n",
       "      <th>close</th>\n",
       "      <th>volume</th>\n",
       "    </tr>\n",
       "  </thead>\n",
       "  <tbody>\n",
       "    <tr>\n",
       "      <th>2023-12-05</th>\n",
       "      <td>418.3400</td>\n",
       "      <td>420.47</td>\n",
       "      <td>418.000</td>\n",
       "      <td>419.61</td>\n",
       "      <td>3419283.0</td>\n",
       "    </tr>\n",
       "    <tr>\n",
       "      <th>2023-12-04</th>\n",
       "      <td>418.6500</td>\n",
       "      <td>419.87</td>\n",
       "      <td>417.500</td>\n",
       "      <td>419.74</td>\n",
       "      <td>5806079.0</td>\n",
       "    </tr>\n",
       "    <tr>\n",
       "      <th>2023-12-01</th>\n",
       "      <td>418.8300</td>\n",
       "      <td>422.37</td>\n",
       "      <td>418.250</td>\n",
       "      <td>421.86</td>\n",
       "      <td>4973625.0</td>\n",
       "    </tr>\n",
       "    <tr>\n",
       "      <th>2023-11-30</th>\n",
       "      <td>418.5400</td>\n",
       "      <td>419.70</td>\n",
       "      <td>416.570</td>\n",
       "      <td>419.40</td>\n",
       "      <td>4405690.0</td>\n",
       "    </tr>\n",
       "    <tr>\n",
       "      <th>2023-11-29</th>\n",
       "      <td>420.0594</td>\n",
       "      <td>421.12</td>\n",
       "      <td>417.365</td>\n",
       "      <td>417.78</td>\n",
       "      <td>4092618.0</td>\n",
       "    </tr>\n",
       "  </tbody>\n",
       "</table>\n",
       "</div>"
      ],
      "text/plain": [
       "                open    high      low   close     volume\n",
       "2023-12-05  418.3400  420.47  418.000  419.61  3419283.0\n",
       "2023-12-04  418.6500  419.87  417.500  419.74  5806079.0\n",
       "2023-12-01  418.8300  422.37  418.250  421.86  4973625.0\n",
       "2023-11-30  418.5400  419.70  416.570  419.40  4405690.0\n",
       "2023-11-29  420.0594  421.12  417.365  417.78  4092618.0"
      ]
     },
     "execution_count": 49,
     "metadata": {},
     "output_type": "execute_result"
    }
   ],
   "source": [
    "df.head()"
   ]
  },
  {
   "cell_type": "code",
   "execution_count": null,
   "id": "f9c49cdf",
   "metadata": {},
   "outputs": [],
   "source": []
  },
  {
   "cell_type": "code",
   "execution_count": null,
   "id": "388312e3",
   "metadata": {},
   "outputs": [],
   "source": []
  },
  {
   "cell_type": "code",
   "execution_count": null,
   "id": "a9726a48",
   "metadata": {},
   "outputs": [],
   "source": []
  }
 ],
 "metadata": {
  "kernelspec": {
   "display_name": "Python 3 (ipykernel)",
   "language": "python",
   "name": "python3"
  },
  "language_info": {
   "codemirror_mode": {
    "name": "ipython",
    "version": 3
   },
   "file_extension": ".py",
   "mimetype": "text/x-python",
   "name": "python",
   "nbconvert_exporter": "python",
   "pygments_lexer": "ipython3",
   "version": "3.9.13"
  }
 },
 "nbformat": 4,
 "nbformat_minor": 5
}
