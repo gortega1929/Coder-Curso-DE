{
 "cells": [
  {
   "cell_type": "code",
   "execution_count": 2,
   "id": "4071c135",
   "metadata": {},
   "outputs": [],
   "source": [
    "# Instalar libreria, solo si no se ha instalado previamente\n",
    "# pip install alpha_vantage"
   ]
  },
  {
   "cell_type": "code",
   "execution_count": 9,
   "id": "f716eb60",
   "metadata": {},
   "outputs": [],
   "source": [
    "from alpha_vantage.timeseries import TimeSeries\n",
    "import pandas as pd"
   ]
  },
  {
   "cell_type": "code",
   "execution_count": 13,
   "id": "cd4dadda",
   "metadata": {},
   "outputs": [],
   "source": [
    "# Importar API key guardada en un archivo separado\n",
    "import sys\n",
    "sys.path.append('../')  # Añade el directorio principal al sys.path\n",
    "from OTROS.credentials import api_key"
   ]
  },
  {
   "cell_type": "code",
   "execution_count": 14,
   "id": "ad6cd7b6",
   "metadata": {},
   "outputs": [],
   "source": [
    "# Símbolo de la acción que deseas obtener\n",
    "ticker = \"VOO\""
   ]
  },
  {
   "cell_type": "code",
   "execution_count": 15,
   "id": "bf1b2179",
   "metadata": {},
   "outputs": [],
   "source": [
    "# Crea una instancia de la clase TimeSeries con tu clave de API\n",
    "ts = TimeSeries(key=api_key)\n",
    "\n",
    "# Obtiene datos históricos de precios de acciones\n",
    "datos, meta_datos = ts.get_daily(symbol=ticker, outputsize='full')"
   ]
  },
  {
   "cell_type": "code",
   "execution_count": 16,
   "id": "04b2de94",
   "metadata": {},
   "outputs": [],
   "source": [
    "df = pd.DataFrame.from_dict(datos, orient='index')\n",
    "df.columns = ['open', 'high', 'low', 'close', 'volume']\n",
    "df[['open', 'high', 'low', 'close', 'volume']] = df[['open', 'high', 'low', 'close', 'volume']].astype(float)"
   ]
  },
  {
   "cell_type": "code",
   "execution_count": 17,
   "id": "1d47830c",
   "metadata": {},
   "outputs": [
    {
     "data": {
      "text/html": [
       "<div>\n",
       "<style scoped>\n",
       "    .dataframe tbody tr th:only-of-type {\n",
       "        vertical-align: middle;\n",
       "    }\n",
       "\n",
       "    .dataframe tbody tr th {\n",
       "        vertical-align: top;\n",
       "    }\n",
       "\n",
       "    .dataframe thead th {\n",
       "        text-align: right;\n",
       "    }\n",
       "</style>\n",
       "<table border=\"1\" class=\"dataframe\">\n",
       "  <thead>\n",
       "    <tr style=\"text-align: right;\">\n",
       "      <th></th>\n",
       "      <th>open</th>\n",
       "      <th>high</th>\n",
       "      <th>low</th>\n",
       "      <th>close</th>\n",
       "      <th>volume</th>\n",
       "    </tr>\n",
       "  </thead>\n",
       "  <tbody>\n",
       "    <tr>\n",
       "      <th>2023-12-21</th>\n",
       "      <td>433.13</td>\n",
       "      <td>434.640</td>\n",
       "      <td>430.8552</td>\n",
       "      <td>434.28</td>\n",
       "      <td>4621606.0</td>\n",
       "    </tr>\n",
       "    <tr>\n",
       "      <th>2023-12-20</th>\n",
       "      <td>435.51</td>\n",
       "      <td>437.305</td>\n",
       "      <td>429.9000</td>\n",
       "      <td>430.09</td>\n",
       "      <td>5783234.0</td>\n",
       "    </tr>\n",
       "    <tr>\n",
       "      <th>2023-12-19</th>\n",
       "      <td>436.04</td>\n",
       "      <td>438.220</td>\n",
       "      <td>435.9500</td>\n",
       "      <td>438.19</td>\n",
       "      <td>4037929.0</td>\n",
       "    </tr>\n",
       "    <tr>\n",
       "      <th>2023-12-18</th>\n",
       "      <td>434.64</td>\n",
       "      <td>436.400</td>\n",
       "      <td>434.4500</td>\n",
       "      <td>435.54</td>\n",
       "      <td>4280475.0</td>\n",
       "    </tr>\n",
       "    <tr>\n",
       "      <th>2023-12-15</th>\n",
       "      <td>433.19</td>\n",
       "      <td>434.250</td>\n",
       "      <td>432.2400</td>\n",
       "      <td>433.09</td>\n",
       "      <td>5326041.0</td>\n",
       "    </tr>\n",
       "  </tbody>\n",
       "</table>\n",
       "</div>"
      ],
      "text/plain": [
       "              open     high       low   close     volume\n",
       "2023-12-21  433.13  434.640  430.8552  434.28  4621606.0\n",
       "2023-12-20  435.51  437.305  429.9000  430.09  5783234.0\n",
       "2023-12-19  436.04  438.220  435.9500  438.19  4037929.0\n",
       "2023-12-18  434.64  436.400  434.4500  435.54  4280475.0\n",
       "2023-12-15  433.19  434.250  432.2400  433.09  5326041.0"
      ]
     },
     "execution_count": 17,
     "metadata": {},
     "output_type": "execute_result"
    }
   ],
   "source": [
    "df.head()"
   ]
  },
  {
   "cell_type": "code",
   "execution_count": null,
   "id": "f9c49cdf",
   "metadata": {},
   "outputs": [],
   "source": []
  },
  {
   "cell_type": "code",
   "execution_count": null,
   "id": "388312e3",
   "metadata": {},
   "outputs": [],
   "source": []
  },
  {
   "cell_type": "code",
   "execution_count": null,
   "id": "a9726a48",
   "metadata": {},
   "outputs": [],
   "source": []
  }
 ],
 "metadata": {
  "kernelspec": {
   "display_name": "Python 3 (ipykernel)",
   "language": "python",
   "name": "python3"
  },
  "language_info": {
   "codemirror_mode": {
    "name": "ipython",
    "version": 3
   },
   "file_extension": ".py",
   "mimetype": "text/x-python",
   "name": "python",
   "nbconvert_exporter": "python",
   "pygments_lexer": "ipython3",
   "version": "3.9.13"
  }
 },
 "nbformat": 4,
 "nbformat_minor": 5
}
